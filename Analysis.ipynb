{
 "cells": [
  {
   "cell_type": "markdown",
   "metadata": {},
   "source": [
    "#A comparison of K-means and K-medoid clustering algorithms"
   ]
  },
  {
   "cell_type": "code",
   "execution_count": 1,
   "metadata": {},
   "outputs": [],
   "source": [
    "import pandas\n",
    "import numpy\n",
    "import seaborn\n",
    "\n",
    "from sklearn.preprocessing import StandardScaler\n"
   ]
  },
  {
   "cell_type": "code",
   "execution_count": 4,
   "metadata": {},
   "outputs": [
    {
     "data": {
      "text/html": [
       "<div>\n",
       "<style scoped>\n",
       "    .dataframe tbody tr th:only-of-type {\n",
       "        vertical-align: middle;\n",
       "    }\n",
       "\n",
       "    .dataframe tbody tr th {\n",
       "        vertical-align: top;\n",
       "    }\n",
       "\n",
       "    .dataframe thead th {\n",
       "        text-align: right;\n",
       "    }\n",
       "</style>\n",
       "<table border=\"1\" class=\"dataframe\">\n",
       "  <thead>\n",
       "    <tr style=\"text-align: right;\">\n",
       "      <th></th>\n",
       "      <th>ID</th>\n",
       "      <th>Unitprice</th>\n",
       "      <th>Expire date</th>\n",
       "      <th>Outbound number</th>\n",
       "      <th>Total outbound</th>\n",
       "      <th>Pal grossweight</th>\n",
       "      <th>Pal height</th>\n",
       "      <th>Units per pal</th>\n",
       "    </tr>\n",
       "  </thead>\n",
       "  <tbody>\n",
       "    <tr>\n",
       "      <th>0</th>\n",
       "      <td>1</td>\n",
       "      <td>0.058</td>\n",
       "      <td>547</td>\n",
       "      <td>9</td>\n",
       "      <td>2441.0</td>\n",
       "      <td>105.60</td>\n",
       "      <td>1.56</td>\n",
       "      <td>1920</td>\n",
       "    </tr>\n",
       "    <tr>\n",
       "      <th>1</th>\n",
       "      <td>2</td>\n",
       "      <td>0.954</td>\n",
       "      <td>547</td>\n",
       "      <td>0</td>\n",
       "      <td>0.0</td>\n",
       "      <td>207.68</td>\n",
       "      <td>1.00</td>\n",
       "      <td>384</td>\n",
       "    </tr>\n",
       "    <tr>\n",
       "      <th>2</th>\n",
       "      <td>3</td>\n",
       "      <td>2.385</td>\n",
       "      <td>547</td>\n",
       "      <td>12</td>\n",
       "      <td>23.0</td>\n",
       "      <td>165.78</td>\n",
       "      <td>1.02</td>\n",
       "      <td>108</td>\n",
       "    </tr>\n",
       "    <tr>\n",
       "      <th>3</th>\n",
       "      <td>4</td>\n",
       "      <td>5.100</td>\n",
       "      <td>547</td>\n",
       "      <td>0</td>\n",
       "      <td>0.0</td>\n",
       "      <td>221.04</td>\n",
       "      <td>1.05</td>\n",
       "      <td>72</td>\n",
       "    </tr>\n",
       "    <tr>\n",
       "      <th>4</th>\n",
       "      <td>5</td>\n",
       "      <td>0.000</td>\n",
       "      <td>547</td>\n",
       "      <td>0</td>\n",
       "      <td>0.0</td>\n",
       "      <td>0.00</td>\n",
       "      <td>0.00</td>\n",
       "      <td>0</td>\n",
       "    </tr>\n",
       "  </tbody>\n",
       "</table>\n",
       "</div>"
      ],
      "text/plain": [
       "   ID  Unitprice  Expire date  Outbound number  Total outbound  \\\n",
       "0   1      0.058          547                9          2441.0   \n",
       "1   2      0.954          547                0             0.0   \n",
       "2   3      2.385          547               12            23.0   \n",
       "3   4      5.100          547                0             0.0   \n",
       "4   5      0.000          547                0             0.0   \n",
       "\n",
       "   Pal grossweight  Pal height  Units per pal  \n",
       "0           105.60        1.56           1920  \n",
       "1           207.68        1.00            384  \n",
       "2           165.78        1.02            108  \n",
       "3           221.04        1.05             72  \n",
       "4             0.00        0.00              0  "
      ]
     },
     "execution_count": 4,
     "metadata": {},
     "output_type": "execute_result"
    }
   ],
   "source": [
    "product_data = pandas.read_excel('./dataset/sku_data.xlsx')\n",
    "product_data.head()"
   ]
  },
  {
   "cell_type": "markdown",
   "metadata": {},
   "source": [
    "Dropping the `ID` column right away..."
   ]
  },
  {
   "cell_type": "code",
   "execution_count": 5,
   "metadata": {},
   "outputs": [
    {
     "data": {
      "text/html": [
       "<div>\n",
       "<style scoped>\n",
       "    .dataframe tbody tr th:only-of-type {\n",
       "        vertical-align: middle;\n",
       "    }\n",
       "\n",
       "    .dataframe tbody tr th {\n",
       "        vertical-align: top;\n",
       "    }\n",
       "\n",
       "    .dataframe thead th {\n",
       "        text-align: right;\n",
       "    }\n",
       "</style>\n",
       "<table border=\"1\" class=\"dataframe\">\n",
       "  <thead>\n",
       "    <tr style=\"text-align: right;\">\n",
       "      <th></th>\n",
       "      <th>Unitprice</th>\n",
       "      <th>Expire date</th>\n",
       "      <th>Outbound number</th>\n",
       "      <th>Total outbound</th>\n",
       "      <th>Pal grossweight</th>\n",
       "      <th>Pal height</th>\n",
       "      <th>Units per pal</th>\n",
       "    </tr>\n",
       "  </thead>\n",
       "  <tbody>\n",
       "    <tr>\n",
       "      <th>0</th>\n",
       "      <td>0.058</td>\n",
       "      <td>547</td>\n",
       "      <td>9</td>\n",
       "      <td>2441.0</td>\n",
       "      <td>105.60</td>\n",
       "      <td>1.56</td>\n",
       "      <td>1920</td>\n",
       "    </tr>\n",
       "    <tr>\n",
       "      <th>1</th>\n",
       "      <td>0.954</td>\n",
       "      <td>547</td>\n",
       "      <td>0</td>\n",
       "      <td>0.0</td>\n",
       "      <td>207.68</td>\n",
       "      <td>1.00</td>\n",
       "      <td>384</td>\n",
       "    </tr>\n",
       "    <tr>\n",
       "      <th>2</th>\n",
       "      <td>2.385</td>\n",
       "      <td>547</td>\n",
       "      <td>12</td>\n",
       "      <td>23.0</td>\n",
       "      <td>165.78</td>\n",
       "      <td>1.02</td>\n",
       "      <td>108</td>\n",
       "    </tr>\n",
       "    <tr>\n",
       "      <th>3</th>\n",
       "      <td>5.100</td>\n",
       "      <td>547</td>\n",
       "      <td>0</td>\n",
       "      <td>0.0</td>\n",
       "      <td>221.04</td>\n",
       "      <td>1.05</td>\n",
       "      <td>72</td>\n",
       "    </tr>\n",
       "    <tr>\n",
       "      <th>4</th>\n",
       "      <td>0.000</td>\n",
       "      <td>547</td>\n",
       "      <td>0</td>\n",
       "      <td>0.0</td>\n",
       "      <td>0.00</td>\n",
       "      <td>0.00</td>\n",
       "      <td>0</td>\n",
       "    </tr>\n",
       "  </tbody>\n",
       "</table>\n",
       "</div>"
      ],
      "text/plain": [
       "   Unitprice  Expire date  Outbound number  Total outbound  Pal grossweight  \\\n",
       "0      0.058          547                9          2441.0           105.60   \n",
       "1      0.954          547                0             0.0           207.68   \n",
       "2      2.385          547               12            23.0           165.78   \n",
       "3      5.100          547                0             0.0           221.04   \n",
       "4      0.000          547                0             0.0             0.00   \n",
       "\n",
       "   Pal height  Units per pal  \n",
       "0        1.56           1920  \n",
       "1        1.00            384  \n",
       "2        1.02            108  \n",
       "3        1.05             72  \n",
       "4        0.00              0  "
      ]
     },
     "execution_count": 5,
     "metadata": {},
     "output_type": "execute_result"
    }
   ],
   "source": [
    "product_data.drop('ID', axis=1, inplace=True)\n",
    "product_data.head()"
   ]
  },
  {
   "cell_type": "markdown",
   "metadata": {},
   "source": [
    "#Data preprocessing"
   ]
  },
  {
   "cell_type": "markdown",
   "metadata": {},
   "source": [
    "##Scaling"
   ]
  },
  {
   "cell_type": "code",
   "execution_count": 7,
   "metadata": {},
   "outputs": [
    {
     "data": {
      "text/plain": [
       "array([[-0.29153064,  0.56734029, -0.32421618, ..., -0.53067939,\n",
       "         1.60726172,  0.18550668],\n",
       "       [-0.22950582,  0.56734029, -0.33707191, ...,  0.08956347,\n",
       "         0.59276189, -0.05919386],\n",
       "       [-0.13044609,  0.56734029, -0.31993094, ..., -0.16502289,\n",
       "         0.62899403, -0.10316348],\n",
       "       ...,\n",
       "       [-0.29554564, -1.70404153, -0.33707191, ..., -0.93923278,\n",
       "        -1.21884495, -0.11973175],\n",
       "       [-0.29554564, -1.70404153, -0.3356435 , ..., -1.01974041,\n",
       "        -1.21884495, -0.11989106],\n",
       "       [-0.29554564,  0.56734029, -0.22851243, ..., -0.53067939,\n",
       "        -1.21884495,  0.18550668]])"
      ]
     },
     "execution_count": 7,
     "metadata": {},
     "output_type": "execute_result"
    }
   ],
   "source": [
    "scaler = StandardScaler()\n",
    "transformed_data = scaler.fit_transform(product_data)"
   ]
  }
 ],
 "metadata": {
  "kernelspec": {
   "display_name": "datascience",
   "language": "python",
   "name": "python3"
  },
  "language_info": {
   "codemirror_mode": {
    "name": "ipython",
    "version": 3
   },
   "file_extension": ".py",
   "mimetype": "text/x-python",
   "name": "python",
   "nbconvert_exporter": "python",
   "pygments_lexer": "ipython3",
   "version": "3.12.3"
  }
 },
 "nbformat": 4,
 "nbformat_minor": 2
}
